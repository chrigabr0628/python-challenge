{
 "cells": [
  {
   "cell_type": "code",
   "execution_count": 1,
   "id": "24c01263-ae09-4fe9-90bd-22d2796b8841",
   "metadata": {},
   "outputs": [],
   "source": [
    "# Dependencies and Setup\n",
    "\n",
    "import os\n",
    "import csv\n",
    "import pandas as pd\n",
    "from pathlib import Path"
   ]
  },
  {
   "cell_type": "code",
   "execution_count": 2,
   "id": "e5c76a94-0a44-44ab-852f-2bf87dd774ad",
   "metadata": {},
   "outputs": [
    {
     "data": {
      "text/html": [
       "<div>\n",
       "<style scoped>\n",
       "    .dataframe tbody tr th:only-of-type {\n",
       "        vertical-align: middle;\n",
       "    }\n",
       "\n",
       "    .dataframe tbody tr th {\n",
       "        vertical-align: top;\n",
       "    }\n",
       "\n",
       "    .dataframe thead th {\n",
       "        text-align: right;\n",
       "    }\n",
       "</style>\n",
       "<table border=\"1\" class=\"dataframe\">\n",
       "  <thead>\n",
       "    <tr style=\"text-align: right;\">\n",
       "      <th></th>\n",
       "      <th>Date</th>\n",
       "      <th>Profit/Losses</th>\n",
       "    </tr>\n",
       "  </thead>\n",
       "  <tbody>\n",
       "    <tr>\n",
       "      <th>0</th>\n",
       "      <td>Jan-10</td>\n",
       "      <td>1088983</td>\n",
       "    </tr>\n",
       "    <tr>\n",
       "      <th>1</th>\n",
       "      <td>Feb-10</td>\n",
       "      <td>-354534</td>\n",
       "    </tr>\n",
       "    <tr>\n",
       "      <th>2</th>\n",
       "      <td>Mar-10</td>\n",
       "      <td>276622</td>\n",
       "    </tr>\n",
       "    <tr>\n",
       "      <th>3</th>\n",
       "      <td>Apr-10</td>\n",
       "      <td>-728133</td>\n",
       "    </tr>\n",
       "    <tr>\n",
       "      <th>4</th>\n",
       "      <td>May-10</td>\n",
       "      <td>852993</td>\n",
       "    </tr>\n",
       "  </tbody>\n",
       "</table>\n",
       "</div>"
      ],
      "text/plain": [
       "     Date  Profit/Losses\n",
       "0  Jan-10        1088983\n",
       "1  Feb-10        -354534\n",
       "2  Mar-10         276622\n",
       "3  Apr-10        -728133\n",
       "4  May-10         852993"
      ]
     },
     "execution_count": 2,
     "metadata": {},
     "output_type": "execute_result"
    }
   ],
   "source": [
    "# File to Load \n",
    "\n",
    "pybank_csv = Path(\"Resources/budget_data.csv\")\n",
    "\n",
    "# Read Data File and store into Pandas DataFrames\n",
    "\n",
    "budget_df = pd.read_csv(pybank_csv)\n",
    "budget_df.head()"
   ]
  },
  {
   "cell_type": "code",
   "execution_count": 3,
   "id": "4470dac8-ff2b-4fa7-9e61-89434b50796f",
   "metadata": {},
   "outputs": [],
   "source": [
    "# Create variables to output values\n",
    "\n",
    "count = 0\n",
    "net_total = 0\n",
    "net_changes = 0 \n",
    "months = 0"
   ]
  },
  {
   "cell_type": "code",
   "execution_count": 4,
   "id": "d6cbea19-9f23-4d38-8274-b1a06cfba71b",
   "metadata": {},
   "outputs": [],
   "source": [
    "# Create lists to store data\n",
    "\n",
    "average_changes = []\n",
    "dates = []\n",
    "profit_loses = []\n",
    "greatest_increase = [0, \"\"]\n",
    "greatest_decrease = [9999999999, \"\"]"
   ]
  },
  {
   "cell_type": "code",
   "execution_count": 5,
   "id": "3cf0ef3a-37ba-442e-858b-224db0428dc3",
   "metadata": {},
   "outputs": [
    {
     "name": "stdout",
     "output_type": "stream",
     "text": [
      "Financial Analysis\n",
      "----------------------------------------------------------\n",
      "Total Months: 86\n",
      "Total Profits: $22564198\n",
      "Average Change: $-8311.11\n",
      "Greatest Increase in Profits: Aug-16 ($1862002)\n",
      "Greatest Decrease in Profits: Feb-14 ($-1825558)\n",
      "----------------------------------------------------------\n"
     ]
    }
   ],
   "source": [
    "# Open the CSV using file path\n",
    "\n",
    "with open(pybank_csv) as pybank_csv_file:\n",
    "    pybankreader = csv.reader(pybank_csv_file, delimiter=',')\n",
    "  \n",
    "\n",
    "    pybank_header = next(pybankreader)\n",
    "\n",
    "# Iterate through the rows\n",
    "    \n",
    "    firstrow = next(pybankreader)\n",
    "    count = count + 1\n",
    "\n",
    "    net_total = net_total + int(firstrow[1])\n",
    "    previous_net = int(firstrow[1])\n",
    "    \n",
    "# Calculate total number of months\n",
    "    \n",
    "    for row in pybankreader:\n",
    "        \n",
    "        \n",
    "        count = count + 1\n",
    "\n",
    "        \n",
    "        dates.append(row[0])\n",
    "\n",
    "# Calculate net total amount of profits/loses\n",
    "        \n",
    "        net_total = net_total + int(row[1])\n",
    "        net_changes = int(row[1]) - previous_net\n",
    "        \n",
    "\n",
    "        profit_loses.append(net_changes)\n",
    "        previous_net = int(row[1])\n",
    "        \n",
    "# Calculate greatest increase and decrease in profits\n",
    "        \n",
    "        if net_changes > greatest_increase[0]: \n",
    "           greatest_increase[0] = net_changes\n",
    "           greatest_increase[1] = row[0] \n",
    "            \n",
    "            \n",
    "        if net_changes < greatest_decrease[0]: \n",
    "           greatest_decrease[0] = net_changes\n",
    "           greatest_decrease[1] = row[0] \n",
    "\n",
    "# Calculate changes in profits/loses \n",
    "\n",
    "average_profit_changes = round(sum(profit_loses)/len(profit_loses), 2)\n",
    "        \n",
    "\n",
    "# Print the results\n",
    "\n",
    "print(\"Financial Analysis\")\n",
    "print(\"----------------------------------------------------------\")\n",
    "print(\"Total Months: \" + str(count))\n",
    "print(\"Total Profits: \" + \"$\" + str(net_total))\n",
    "print(\"Average Change: \" + \"$\" + str(average_profit_changes))\n",
    "print(\"Greatest Increase in Profits: \" + str(greatest_increase[1]) + \" ($\" + str(greatest_increase[0]) + \")\")\n",
    "print(\"Greatest Decrease in Profits: \" + str(greatest_decrease[1]) + \" ($\" + str(greatest_decrease[0])+ \")\")\n",
    "print(\"----------------------------------------------------------\")\n",
    "    "
   ]
  },
  {
   "cell_type": "code",
   "execution_count": 6,
   "id": "733ddf9a-305d-472d-9cab-e3f4d27ac4e2",
   "metadata": {},
   "outputs": [],
   "source": [
    "# Export text file\n",
    "\n",
    "with open('financial_analysis.txt', 'w') as text:\n",
    "        text.write(\"----------------------------------------------------------\\n\")\n",
    "        text.write(\"Financial Analysis\" + \"\\n\")\n",
    "        text.write(\"----------------------------------------------------------\\n\")\n",
    "        text.write(\"Total Months: \" + str(count) + \"\\n\")\n",
    "        text.write(\"Total Profits: \" + \"$\" + str(net_total) + \"\\n\")\n",
    "        text.write(\"Average Change: \" + \"$\" + str((average_profit_changes)) + \"\\n\")\n",
    "        text.write(\"Greatest Increase in Profits: \" + str(greatest_increase[1]) + \" ($\" + str(greatest_increase[0]) + \")\\n\")\n",
    "        text.write(\"Greatest Decrease in Profits: \" + str(greatest_decrease[1]) + \" ($\" + str(greatest_decrease[0])+ \")\\n\")\n",
    "        text.write(\"----------------------------------------------------------\\n\")"
   ]
  }
 ],
 "metadata": {
  "kernelspec": {
   "display_name": "Python 3 (ipykernel)",
   "language": "python",
   "name": "python3"
  },
  "language_info": {
   "codemirror_mode": {
    "name": "ipython",
    "version": 3
   },
   "file_extension": ".py",
   "mimetype": "text/x-python",
   "name": "python",
   "nbconvert_exporter": "python",
   "pygments_lexer": "ipython3",
   "version": "3.11.5"
  }
 },
 "nbformat": 4,
 "nbformat_minor": 5
}
